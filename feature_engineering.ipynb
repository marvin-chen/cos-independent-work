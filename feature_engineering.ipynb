{
 "cells": [
  {
   "cell_type": "code",
   "execution_count": 1,
   "metadata": {},
   "outputs": [
    {
     "name": "stdout",
     "output_type": "stream",
     "text": [
      "        Name  Generation  HP  Attack  Defense  Sp. Atk  Sp. Def  Speed  Total  \\\n",
      "0    Malamar         6.0  86      92       88       68       75     73    482   \n",
      "1    Gothita         5.0  45      30       50       55       65     45    290   \n",
      "2     Deoxys         3.0  50     150       50      150       50    150    600   \n",
      "3  Staraptor         4.0  85     120       70       50       60    100    485   \n",
      "4  Mismagius         4.0  60      60       60      105      105    105    495   \n",
      "\n",
      "   Height(m)  ...  Secondary_Ice Secondary_Normal  Secondary_Poison  \\\n",
      "0        1.5  ...          False            False             False   \n",
      "1        0.4  ...          False            False             False   \n",
      "2        1.7  ...          False            False             False   \n",
      "3        1.2  ...          False            False             False   \n",
      "4        0.9  ...          False            False             False   \n",
      "\n",
      "   Secondary_Psychic  Secondary_Rock  Secondary_Steel  Secondary_Water  \\\n",
      "0               True           False            False            False   \n",
      "1              False           False            False            False   \n",
      "2              False           False            False            False   \n",
      "3              False           False            False            False   \n",
      "4              False           False            False            False   \n",
      "\n",
      "   Is_Early_Gen  Highest_Stat  Stat_Spread  \n",
      "0             0        Attack     9.605554  \n",
      "1             0       Sp. Def    11.690452  \n",
      "2             1        Attack    54.772256  \n",
      "3             0        Attack    26.156580  \n",
      "4             0       Sp. Atk    24.647515  \n",
      "\n",
      "[5 rows x 59 columns]\n"
     ]
    }
   ],
   "source": [
    "import pandas as pd\n",
    "import numpy as np\n",
    "\n",
    "# Load the original data\n",
    "df = pd.read_csv('csv/pokemon_train.csv')\n",
    "\n",
    "# Create a new DataFrame for engineered features\n",
    "df_engineered = df.copy()\n",
    "\n",
    "# Feature Engineering\n",
    "df_engineered['Stat_Total'] = df['HP'] + df['Attack'] + df['Defense'] + df['Sp. Atk'] + df['Sp. Def'] + df['Speed']\n",
    "df_engineered['Physical_Ratio'] = (df['Attack'] + df['Defense']) / df_engineered['Stat_Total']\n",
    "df_engineered['Special_Ratio'] = (df['Sp. Atk'] + df['Sp. Def']) / df_engineered['Stat_Total']\n",
    "df_engineered['Offensive_Ratio'] = (df['Attack'] + df['Sp. Atk']) / df_engineered['Stat_Total']\n",
    "df_engineered['Defensive_Ratio'] = (df['Defense'] + df['Sp. Def']) / df_engineered['Stat_Total']\n",
    "df_engineered['Speed_Ratio'] = df['Speed'] / df_engineered['Stat_Total']\n",
    "df_engineered['BMI'] = df['Weight(kg)'] / (df['Height(m)'] ** 2)\n",
    "df_engineered['Is_Single_Type'] = (df['Secondary_Type'] == 'None').astype(int)\n",
    "\n",
    "# One-hot encode Primary and Secondary Types\n",
    "df_engineered = pd.get_dummies(df_engineered, columns=['Primary_Type', 'Secondary_Type'], prefix=['Primary', 'Secondary'])\n",
    "\n",
    "# Create binary features for early vs late generation\n",
    "df_engineered['Is_Early_Gen'] = (df_engineered['Generation'] <= 3).astype(int)\n",
    "\n",
    "# Identify the highest stat\n",
    "stat_columns = ['HP', 'Attack', 'Defense', 'Sp. Atk', 'Sp. Def', 'Speed']\n",
    "df_engineered['Highest_Stat'] = df_engineered[stat_columns].idxmax(axis=1)\n",
    "\n",
    "# Calculate stat spread (standard deviation of stats)\n",
    "df_engineered['Stat_Spread'] = df_engineered[stat_columns].std(axis=1)\n",
    "\n",
    "# Print the first few rows of the new DataFrame\n",
    "print(df_engineered.head())\n",
    "\n",
    "# Save the engineered features to a new CSV file\n",
    "df_engineered.to_csv('pokemon_train_engineered.csv', index=False)"
   ]
  }
 ],
 "metadata": {
  "kernelspec": {
   "display_name": "cos397",
   "language": "python",
   "name": "python3"
  },
  "language_info": {
   "codemirror_mode": {
    "name": "ipython",
    "version": 3
   },
   "file_extension": ".py",
   "mimetype": "text/x-python",
   "name": "python",
   "nbconvert_exporter": "python",
   "pygments_lexer": "ipython3",
   "version": "3.11.7"
  }
 },
 "nbformat": 4,
 "nbformat_minor": 2
}
