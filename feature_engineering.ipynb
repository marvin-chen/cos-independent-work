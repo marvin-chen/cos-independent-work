{
 "cells": [
  {
   "cell_type": "code",
   "execution_count": 11,
   "metadata": {},
   "outputs": [
    {
     "name": "stdout",
     "output_type": "stream",
     "text": [
      "         Name  Generation   HP  Attack  Defense  Sp. Atk  Sp. Def  Speed  \\\n",
      "0       Yanma         2.0   65      65       45       75       45     95   \n",
      "1  Chandelure         5.0   60      55       90      145       90     80   \n",
      "2    Jumpluff         2.0   75      55       70       55       95    110   \n",
      "3     Flapple         8.0   70     110       80       95       60     70   \n",
      "4   Gastrodon         4.0  111      83       68       92       82     39   \n",
      "\n",
      "   Total  Height(m)  ...  Secondary_Ice Secondary_Normal  Secondary_Poison  \\\n",
      "0    390        1.2  ...          False            False             False   \n",
      "1    520        1.0  ...          False            False             False   \n",
      "2    460        0.8  ...          False            False             False   \n",
      "3    485        0.3  ...          False            False             False   \n",
      "4    475        0.9  ...          False            False             False   \n",
      "\n",
      "   Secondary_Psychic  Secondary_Rock  Secondary_Steel  Secondary_Water  \\\n",
      "0              False           False            False            False   \n",
      "1              False           False            False            False   \n",
      "2              False           False            False            False   \n",
      "3              False           False            False            False   \n",
      "4              False           False            False            False   \n",
      "\n",
      "   Is_Early_Gen  Highest_Stat  Stat_Spread  \n",
      "0             1         Speed    18.973666  \n",
      "1             0       Sp. Atk    32.197308  \n",
      "2             1         Speed    22.060523  \n",
      "3             0        Attack    18.551729  \n",
      "4             0            HP    24.243900  \n",
      "\n",
      "[5 rows x 59 columns]\n"
     ]
    }
   ],
   "source": [
    "import pandas as pd\n",
    "import numpy as np\n",
    "\n",
    "# Load the original data\n",
    "df = pd.read_csv('csv/pokemon_train.csv')\n",
    "\n",
    "# Create a new DataFrame for engineered features\n",
    "df_engineered = df.copy()\n",
    "\n",
    "# Feature Engineering\n",
    "df_engineered['Stat_Total'] = df['HP'] + df['Attack'] + df['Defense'] + df['Sp. Atk'] + df['Sp. Def'] + df['Speed']\n",
    "df_engineered['Physical_Ratio'] = (df['Attack'] + df['Defense']) / df_engineered['Stat_Total']\n",
    "df_engineered['Special_Ratio'] = (df['Sp. Atk'] + df['Sp. Def']) / df_engineered['Stat_Total']\n",
    "df_engineered['Offensive_Ratio'] = (df['Attack'] + df['Sp. Atk']) / df_engineered['Stat_Total']\n",
    "df_engineered['Defensive_Ratio'] = (df['Defense'] + df['Sp. Def']) / df_engineered['Stat_Total']\n",
    "df_engineered['Speed_Ratio'] = df['Speed'] / df_engineered['Stat_Total']\n",
    "df_engineered['BMI'] = df['Weight(kg)'] / (df['Height(m)'] ** 2)\n",
    "df_engineered['Is_Single_Type'] = (df['Secondary_Type'] == 'None').astype(int)\n",
    "\n",
    "# One-hot encode Primary and Secondary Types\n",
    "df_engineered = pd.get_dummies(df_engineered, columns=['Primary_Type', 'Secondary_Type'], prefix=['Primary', 'Secondary'])\n",
    "\n",
    "# Create binary features for early vs late generation\n",
    "df_engineered['Is_Early_Gen'] = (df_engineered['Generation'] <= 3).astype(int)\n",
    "\n",
    "# Identify the highest stat\n",
    "stat_columns = ['HP', 'Attack', 'Defense', 'Sp. Atk', 'Sp. Def', 'Speed']\n",
    "df_engineered['Highest_Stat'] = df_engineered[stat_columns].idxmax(axis=1)\n",
    "\n",
    "# Calculate stat spread (standard deviation of stats)\n",
    "df_engineered['Stat_Spread'] = df_engineered[stat_columns].std(axis=1)\n",
    "\n",
    "# Print the first few rows of the new DataFrame\n",
    "print(df_engineered.head())\n",
    "\n",
    "# Save the engineered features to a new CSV file\n",
    "df_engineered.to_csv('pokemon_train_engineered.csv', index=False)"
   ]
  }
 ],
 "metadata": {
  "kernelspec": {
   "display_name": "cos397",
   "language": "python",
   "name": "python3"
  },
  "language_info": {
   "codemirror_mode": {
    "name": "ipython",
    "version": 3
   },
   "file_extension": ".py",
   "mimetype": "text/x-python",
   "name": "python",
   "nbconvert_exporter": "python",
   "pygments_lexer": "ipython3",
   "version": "3.11.7"
  }
 },
 "nbformat": 4,
 "nbformat_minor": 2
}
